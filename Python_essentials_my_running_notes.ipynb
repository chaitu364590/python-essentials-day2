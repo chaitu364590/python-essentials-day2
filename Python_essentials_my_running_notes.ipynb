{
  "nbformat": 4,
  "nbformat_minor": 0,
  "metadata": {
    "colab": {
      "name": "Python essentials my running notes.ipynb",
      "provenance": []
    },
    "kernelspec": {
      "name": "python3",
      "display_name": "Python 3"
    },
    "language_info": {
      "name": "python"
    }
  },
  "cells": [
    {
      "cell_type": "markdown",
      "metadata": {
        "id": "1lbun9glwYco"
      },
      "source": [
        "Arithmetic operators"
      ]
    },
    {
      "cell_type": "code",
      "metadata": {
        "colab": {
          "base_uri": "https://localhost:8080/"
        },
        "id": "nqvUTW9iugym",
        "outputId": "148f11fe-5fa4-40c6-c85a-8c83763c7a62"
      },
      "source": [
        "5+9 # Addition"
      ],
      "execution_count": null,
      "outputs": [
        {
          "output_type": "execute_result",
          "data": {
            "text/plain": [
              "14"
            ]
          },
          "metadata": {
            "tags": []
          },
          "execution_count": 1
        }
      ]
    },
    {
      "cell_type": "code",
      "metadata": {
        "colab": {
          "base_uri": "https://localhost:8080/"
        },
        "id": "AL8GB1O5wFxf",
        "outputId": "f145ca95-3451-4a08-9ec3-c4ec4ca1274c"
      },
      "source": [
        "6*7 # mltiplication"
      ],
      "execution_count": null,
      "outputs": [
        {
          "output_type": "execute_result",
          "data": {
            "text/plain": [
              "42"
            ]
          },
          "metadata": {
            "tags": []
          },
          "execution_count": 2
        }
      ]
    },
    {
      "cell_type": "code",
      "metadata": {
        "colab": {
          "base_uri": "https://localhost:8080/"
        },
        "id": "kGhDJOlDwSSD",
        "outputId": "0b48672e-4ced-441d-bfc8-5c2187997e58"
      },
      "source": [
        "7-5 # subtraction"
      ],
      "execution_count": null,
      "outputs": [
        {
          "output_type": "execute_result",
          "data": {
            "text/plain": [
              "2"
            ]
          },
          "metadata": {
            "tags": []
          },
          "execution_count": 3
        }
      ]
    },
    {
      "cell_type": "code",
      "metadata": {
        "colab": {
          "base_uri": "https://localhost:8080/"
        },
        "id": "RCRufoV7wSeN",
        "outputId": "00103d59-3cf9-47f1-bb44-227ed5e7cc41"
      },
      "source": [
        "9/4 # divison"
      ],
      "execution_count": null,
      "outputs": [
        {
          "output_type": "execute_result",
          "data": {
            "text/plain": [
              "2.25"
            ]
          },
          "metadata": {
            "tags": []
          },
          "execution_count": 4
        }
      ]
    },
    {
      "cell_type": "code",
      "metadata": {
        "colab": {
          "base_uri": "https://localhost:8080/"
        },
        "id": "dheF87CmwSka",
        "outputId": "fee19c78-88d3-428d-dee3-d4fd78f93c83"
      },
      "source": [
        "4**2 # exponent"
      ],
      "execution_count": null,
      "outputs": [
        {
          "output_type": "execute_result",
          "data": {
            "text/plain": [
              "16"
            ]
          },
          "metadata": {
            "tags": []
          },
          "execution_count": 7
        }
      ]
    },
    {
      "cell_type": "code",
      "metadata": {
        "colab": {
          "base_uri": "https://localhost:8080/"
        },
        "id": "MJTz5qZ0w6go",
        "outputId": "52185532-947e-49fb-cc69-eacf3bd6a5e5"
      },
      "source": [
        "5%2 # reminder - modulos"
      ],
      "execution_count": null,
      "outputs": [
        {
          "output_type": "execute_result",
          "data": {
            "text/plain": [
              "1"
            ]
          },
          "metadata": {
            "tags": []
          },
          "execution_count": 9
        }
      ]
    },
    {
      "cell_type": "code",
      "metadata": {
        "colab": {
          "base_uri": "https://localhost:8080/"
        },
        "id": "S7KMIfKsw7Ot",
        "outputId": "272cf9cd-356f-44f5-afc5-6ad2197dc15e"
      },
      "source": [
        "5//2 # floor divison"
      ],
      "execution_count": null,
      "outputs": [
        {
          "output_type": "execute_result",
          "data": {
            "text/plain": [
              "2"
            ]
          },
          "metadata": {
            "tags": []
          },
          "execution_count": 12
        }
      ]
    },
    {
      "cell_type": "markdown",
      "metadata": {
        "id": "bOIT-I9GxNNc"
      },
      "source": [
        "Comparison\n"
      ]
    },
    {
      "cell_type": "code",
      "metadata": {
        "id": "sj-In3V6xQJm"
      },
      "source": [
        "credit = 5"
      ],
      "execution_count": null,
      "outputs": []
    },
    {
      "cell_type": "code",
      "metadata": {
        "colab": {
          "base_uri": "https://localhost:8080/"
        },
        "id": "6js3YPgRyEat",
        "outputId": "1b7d9a9d-6f4b-4573-85e8-34e1cefe1a77"
      },
      "source": [
        "credit == 5"
      ],
      "execution_count": null,
      "outputs": [
        {
          "output_type": "execute_result",
          "data": {
            "text/plain": [
              "True"
            ]
          },
          "metadata": {
            "tags": []
          },
          "execution_count": 16
        }
      ]
    },
    {
      "cell_type": "code",
      "metadata": {
        "colab": {
          "base_uri": "https://localhost:8080/"
        },
        "id": "xPyyByTwyw-z",
        "outputId": "cfe99d72-1f44-4837-c4c8-0c556aefc320"
      },
      "source": [
        "credit != 4"
      ],
      "execution_count": null,
      "outputs": [
        {
          "output_type": "execute_result",
          "data": {
            "text/plain": [
              "True"
            ]
          },
          "metadata": {
            "tags": []
          },
          "execution_count": 19
        }
      ]
    },
    {
      "cell_type": "code",
      "metadata": {
        "colab": {
          "base_uri": "https://localhost:8080/"
        },
        "id": "Txg5yYFXyEha",
        "outputId": "3dd99069-b7da-4427-c072-99184f9ee555"
      },
      "source": [
        "credit >= 1"
      ],
      "execution_count": null,
      "outputs": [
        {
          "output_type": "execute_result",
          "data": {
            "text/plain": [
              "True"
            ]
          },
          "metadata": {
            "tags": []
          },
          "execution_count": 17
        }
      ]
    },
    {
      "cell_type": "code",
      "metadata": {
        "colab": {
          "base_uri": "https://localhost:8080/"
        },
        "id": "8hSKjTATyTCF",
        "outputId": "ed085a8c-9dc1-4ea8-ed60-36ee5ab2687e"
      },
      "source": [
        "credit <= 5"
      ],
      "execution_count": null,
      "outputs": [
        {
          "output_type": "execute_result",
          "data": {
            "text/plain": [
              "True"
            ]
          },
          "metadata": {
            "tags": []
          },
          "execution_count": 18
        }
      ]
    },
    {
      "cell_type": "markdown",
      "metadata": {
        "id": "bdFENqnwyXjh"
      },
      "source": [
        "Assignment operations\n"
      ]
    },
    {
      "cell_type": "code",
      "metadata": {
        "id": "a6HlVWvUyau2"
      },
      "source": [
        "Namee =\"chaitanya\""
      ],
      "execution_count": null,
      "outputs": []
    },
    {
      "cell_type": "code",
      "metadata": {
        "colab": {
          "base_uri": "https://localhost:8080/",
          "height": 35
        },
        "id": "sSXYyiGhyaxP",
        "outputId": "b5fe696f-37df-4b92-caa3-7cbf434a0669"
      },
      "source": [
        "Namee"
      ],
      "execution_count": null,
      "outputs": [
        {
          "output_type": "execute_result",
          "data": {
            "application/vnd.google.colaboratory.intrinsic+json": {
              "type": "string"
            },
            "text/plain": [
              "'chaitanya'"
            ]
          },
          "metadata": {
            "tags": []
          },
          "execution_count": 28
        }
      ]
    },
    {
      "cell_type": "code",
      "metadata": {
        "id": "XxNLlmpbyazx"
      },
      "source": [
        "Namee = 17"
      ],
      "execution_count": null,
      "outputs": []
    },
    {
      "cell_type": "code",
      "metadata": {
        "colab": {
          "base_uri": "https://localhost:8080/"
        },
        "id": "JuY6jFsZya2D",
        "outputId": "0aa1d751-3f84-4773-e8d9-4113d3d22609"
      },
      "source": [
        "Namee"
      ],
      "execution_count": null,
      "outputs": [
        {
          "output_type": "execute_result",
          "data": {
            "text/plain": [
              "17"
            ]
          },
          "metadata": {
            "tags": []
          },
          "execution_count": 73
        }
      ]
    },
    {
      "cell_type": "code",
      "metadata": {
        "colab": {
          "base_uri": "https://localhost:8080/"
        },
        "id": "8JdbuiWd0MMw",
        "outputId": "923b196c-89e0-4c55-b1ca-289fc53b6e5b"
      },
      "source": [
        "Namee += 5\n",
        "Namee"
      ],
      "execution_count": null,
      "outputs": [
        {
          "output_type": "execute_result",
          "data": {
            "text/plain": [
              "22"
            ]
          },
          "metadata": {
            "tags": []
          },
          "execution_count": 74
        }
      ]
    },
    {
      "cell_type": "code",
      "metadata": {
        "colab": {
          "base_uri": "https://localhost:8080/"
        },
        "id": "_aGoKgaH0MZR",
        "outputId": "f73a167d-c0df-4461-cffd-c84f8779851f"
      },
      "source": [
        "Namee -=2\n",
        "Namee"
      ],
      "execution_count": null,
      "outputs": [
        {
          "output_type": "execute_result",
          "data": {
            "text/plain": [
              "20"
            ]
          },
          "metadata": {
            "tags": []
          },
          "execution_count": 75
        }
      ]
    },
    {
      "cell_type": "code",
      "metadata": {
        "colab": {
          "base_uri": "https://localhost:8080/"
        },
        "id": "M2ifwEsH0MeR",
        "outputId": "609240e7-3776-4ae7-c845-fb84fd034e36"
      },
      "source": [
        "Namee *=5\n",
        "Namee"
      ],
      "execution_count": null,
      "outputs": [
        {
          "output_type": "execute_result",
          "data": {
            "text/plain": [
              "500"
            ]
          },
          "metadata": {
            "tags": []
          },
          "execution_count": 77
        }
      ]
    },
    {
      "cell_type": "code",
      "metadata": {
        "colab": {
          "base_uri": "https://localhost:8080/"
        },
        "id": "8tWUotkk1Gwl",
        "outputId": "e653b6db-124d-488a-b75f-837645dd0881"
      },
      "source": [
        "Namee /=2\n",
        "Namee"
      ],
      "execution_count": null,
      "outputs": [
        {
          "output_type": "execute_result",
          "data": {
            "text/plain": [
              "250.0"
            ]
          },
          "metadata": {
            "tags": []
          },
          "execution_count": 78
        }
      ]
    },
    {
      "cell_type": "code",
      "metadata": {
        "colab": {
          "base_uri": "https://localhost:8080/"
        },
        "id": "f25RZ5Ni1HSH",
        "outputId": "40f905fc-49fa-4ede-cfcf-2362eac6e828"
      },
      "source": [
        "Namee //=3\n",
        "Namee"
      ],
      "execution_count": null,
      "outputs": [
        {
          "output_type": "execute_result",
          "data": {
            "text/plain": [
              "83.0"
            ]
          },
          "metadata": {
            "tags": []
          },
          "execution_count": 79
        }
      ]
    },
    {
      "cell_type": "code",
      "metadata": {
        "colab": {
          "base_uri": "https://localhost:8080/"
        },
        "id": "XckKMRVg3nhs",
        "outputId": "91716913-ad6f-4450-928c-33711d8ea943"
      },
      "source": [
        "Namee %=2\n",
        "Namee"
      ],
      "execution_count": null,
      "outputs": [
        {
          "output_type": "execute_result",
          "data": {
            "text/plain": [
              "1.0"
            ]
          },
          "metadata": {
            "tags": []
          },
          "execution_count": 80
        }
      ]
    },
    {
      "cell_type": "markdown",
      "metadata": {
        "id": "9Gelb3ze3vWh"
      },
      "source": [
        "Logical operators\n"
      ]
    },
    {
      "cell_type": "code",
      "metadata": {
        "id": "t7Y9y80F30AN"
      },
      "source": [
        "x = 14\n",
        "y = 1896"
      ],
      "execution_count": null,
      "outputs": []
    },
    {
      "cell_type": "code",
      "metadata": {
        "colab": {
          "base_uri": "https://localhost:8080/"
        },
        "id": "5QaBoHg930Ez",
        "outputId": "31f4eacd-92aa-43b8-9f36-4dc13a441888"
      },
      "source": [
        "(x > 5) & (y < 25)"
      ],
      "execution_count": null,
      "outputs": [
        {
          "output_type": "execute_result",
          "data": {
            "text/plain": [
              "False"
            ]
          },
          "metadata": {
            "tags": []
          },
          "execution_count": 94
        }
      ]
    },
    {
      "cell_type": "code",
      "metadata": {
        "colab": {
          "base_uri": "https://localhost:8080/"
        },
        "id": "LawRQphf4U9W",
        "outputId": "119e8666-23ee-4e1b-ba6c-ab5796426e15"
      },
      "source": [
        "(x > 5) | (y < 25)"
      ],
      "execution_count": null,
      "outputs": [
        {
          "output_type": "execute_result",
          "data": {
            "text/plain": [
              "True"
            ]
          },
          "metadata": {
            "tags": []
          },
          "execution_count": 95
        }
      ]
    },
    {
      "cell_type": "code",
      "metadata": {
        "colab": {
          "base_uri": "https://localhost:8080/"
        },
        "id": "N8SuBFxz4nlH",
        "outputId": "5f599426-8360-4d2e-9cb0-d626b7f8bcbb"
      },
      "source": [
        "not (y < 19)"
      ],
      "execution_count": null,
      "outputs": [
        {
          "output_type": "execute_result",
          "data": {
            "text/plain": [
              "True"
            ]
          },
          "metadata": {
            "tags": []
          },
          "execution_count": 96
        }
      ]
    },
    {
      "cell_type": "markdown",
      "metadata": {
        "id": "9JcFd4lh7X0t"
      },
      "source": [
        "Data types\n"
      ]
    },
    {
      "cell_type": "markdown",
      "metadata": {
        "id": "ZZbCZEIU0Zon"
      },
      "source": [
        "Text type\n"
      ]
    },
    {
      "cell_type": "code",
      "metadata": {
        "id": "jBAMY4GJ7qGr"
      },
      "source": [
        "customer = \"gopal\""
      ],
      "execution_count": 2,
      "outputs": []
    },
    {
      "cell_type": "code",
      "metadata": {
        "colab": {
          "base_uri": "https://localhost:8080/",
          "height": 35
        },
        "id": "PFp8j-Xj7qQB",
        "outputId": "858fb7e3-722f-47f4-d4f7-3309c53f2585"
      },
      "source": [
        "customer"
      ],
      "execution_count": 3,
      "outputs": [
        {
          "output_type": "execute_result",
          "data": {
            "application/vnd.google.colaboratory.intrinsic+json": {
              "type": "string"
            },
            "text/plain": [
              "'gopal'"
            ]
          },
          "metadata": {
            "tags": []
          },
          "execution_count": 3
        }
      ]
    },
    {
      "cell_type": "code",
      "metadata": {
        "colab": {
          "base_uri": "https://localhost:8080/"
        },
        "id": "uShqwcsK0rc5",
        "outputId": "4c12d057-b881-4d19-9dc7-1480450ae8b6"
      },
      "source": [
        "print(customer)"
      ],
      "execution_count": 4,
      "outputs": [
        {
          "output_type": "stream",
          "text": [
            "gopal\n"
          ],
          "name": "stdout"
        }
      ]
    },
    {
      "cell_type": "code",
      "metadata": {
        "colab": {
          "base_uri": "https://localhost:8080/"
        },
        "id": "98sBqrmK8BDY",
        "outputId": "142cfb0f-3110-4b36-d563-6b6cf1e26fb2"
      },
      "source": [
        "type(customer)"
      ],
      "execution_count": 5,
      "outputs": [
        {
          "output_type": "execute_result",
          "data": {
            "text/plain": [
              "str"
            ]
          },
          "metadata": {
            "tags": []
          },
          "execution_count": 5
        }
      ]
    },
    {
      "cell_type": "markdown",
      "metadata": {
        "id": "_1JaiY5s0d5V"
      },
      "source": [
        "Numeric type"
      ]
    },
    {
      "cell_type": "code",
      "metadata": {
        "id": "3uep6vrS8BF4"
      },
      "source": [
        "num_a = 55\n",
        "num_b = 24.8\n",
        "str_c = \"14.3\""
      ],
      "execution_count": 6,
      "outputs": []
    },
    {
      "cell_type": "code",
      "metadata": {
        "colab": {
          "base_uri": "https://localhost:8080/"
        },
        "id": "NaXPg8qH0ieN",
        "outputId": "1f23925c-bbc5-4c75-8f78-82124d9fe2e6"
      },
      "source": [
        "type(num_a), type(num_b), type(str_c)"
      ],
      "execution_count": 7,
      "outputs": [
        {
          "output_type": "execute_result",
          "data": {
            "text/plain": [
              "(int, float, str)"
            ]
          },
          "metadata": {
            "tags": []
          },
          "execution_count": 7
        }
      ]
    },
    {
      "cell_type": "code",
      "metadata": {
        "colab": {
          "base_uri": "https://localhost:8080/",
          "height": 35
        },
        "id": "Esnn1RFA0ihd",
        "outputId": "b88663de-3f9a-4104-8969-f3fa4eb86d16"
      },
      "source": [
        "str_c"
      ],
      "execution_count": 8,
      "outputs": [
        {
          "output_type": "execute_result",
          "data": {
            "application/vnd.google.colaboratory.intrinsic+json": {
              "type": "string"
            },
            "text/plain": [
              "'14.3'"
            ]
          },
          "metadata": {
            "tags": []
          },
          "execution_count": 8
        }
      ]
    },
    {
      "cell_type": "code",
      "metadata": {
        "colab": {
          "base_uri": "https://localhost:8080/"
        },
        "id": "p23x8FvL3D_v",
        "outputId": "e232d6c0-e430-4359-98c2-79ec443b0f75"
      },
      "source": [
        "float(num_a)"
      ],
      "execution_count": 10,
      "outputs": [
        {
          "output_type": "execute_result",
          "data": {
            "text/plain": [
              "55.0"
            ]
          },
          "metadata": {
            "tags": []
          },
          "execution_count": 10
        }
      ]
    },
    {
      "cell_type": "code",
      "metadata": {
        "colab": {
          "base_uri": "https://localhost:8080/"
        },
        "id": "_Qy7K7o83zEb",
        "outputId": "de570f42-3a2f-45fc-89c6-08f9749ec69e"
      },
      "source": [
        "int(num_b)"
      ],
      "execution_count": 12,
      "outputs": [
        {
          "output_type": "execute_result",
          "data": {
            "text/plain": [
              "24"
            ]
          },
          "metadata": {
            "tags": []
          },
          "execution_count": 12
        }
      ]
    },
    {
      "cell_type": "code",
      "metadata": {
        "colab": {
          "base_uri": "https://localhost:8080/"
        },
        "id": "z11U45mQ3zGx",
        "outputId": "47543dc0-48cb-4e27-8a31-d28def66d45e"
      },
      "source": [
        "float(str_c)"
      ],
      "execution_count": 13,
      "outputs": [
        {
          "output_type": "execute_result",
          "data": {
            "text/plain": [
              "14.3"
            ]
          },
          "metadata": {
            "tags": []
          },
          "execution_count": 13
        }
      ]
    },
    {
      "cell_type": "code",
      "metadata": {
        "colab": {
          "base_uri": "https://localhost:8080/"
        },
        "id": "ITbjcfkq4KaD",
        "outputId": "8c189cd5-363d-4fd7-a414-b1ce48351e34"
      },
      "source": [
        "int(float(str_c))"
      ],
      "execution_count": 14,
      "outputs": [
        {
          "output_type": "execute_result",
          "data": {
            "text/plain": [
              "14"
            ]
          },
          "metadata": {
            "tags": []
          },
          "execution_count": 14
        }
      ]
    },
    {
      "cell_type": "markdown",
      "metadata": {
        "id": "br11kU8M4QW1"
      },
      "source": [
        "List\n"
      ]
    },
    {
      "cell_type": "code",
      "metadata": {
        "id": "8ccML_zP4T1M"
      },
      "source": [
        "list_0 = [\"chaitu\",\"prasanth\",\"shanmukh\",\"anand\"]"
      ],
      "execution_count": 17,
      "outputs": []
    },
    {
      "cell_type": "code",
      "metadata": {
        "colab": {
          "base_uri": "https://localhost:8080/"
        },
        "id": "-oWEDzWj4T3b",
        "outputId": "54ec0f4e-45d8-4230-805e-88ac61e509ed"
      },
      "source": [
        "type(list_0)"
      ],
      "execution_count": 18,
      "outputs": [
        {
          "output_type": "execute_result",
          "data": {
            "text/plain": [
              "list"
            ]
          },
          "metadata": {
            "tags": []
          },
          "execution_count": 18
        }
      ]
    },
    {
      "cell_type": "code",
      "metadata": {
        "colab": {
          "base_uri": "https://localhost:8080/"
        },
        "id": "ytOcS8jH4T6n",
        "outputId": "84ac62e3-61dd-41af-b9c7-266653465f61"
      },
      "source": [
        "list_0"
      ],
      "execution_count": 19,
      "outputs": [
        {
          "output_type": "execute_result",
          "data": {
            "text/plain": [
              "['chaitu', 'prasanth', 'shanmukh', 'anand']"
            ]
          },
          "metadata": {
            "tags": []
          },
          "execution_count": 19
        }
      ]
    },
    {
      "cell_type": "code",
      "metadata": {
        "colab": {
          "base_uri": "https://localhost:8080/",
          "height": 35
        },
        "id": "UU7N9E5F5vgC",
        "outputId": "e9bc23bb-fb0a-4ca1-bd2e-5a7ae6a07f66"
      },
      "source": [
        "list_0[1]"
      ],
      "execution_count": 22,
      "outputs": [
        {
          "output_type": "execute_result",
          "data": {
            "application/vnd.google.colaboratory.intrinsic+json": {
              "type": "string"
            },
            "text/plain": [
              "'prasanth'"
            ]
          },
          "metadata": {
            "tags": []
          },
          "execution_count": 22
        }
      ]
    },
    {
      "cell_type": "code",
      "metadata": {
        "colab": {
          "base_uri": "https://localhost:8080/",
          "height": 35
        },
        "id": "OoQlb9zY6qzE",
        "outputId": "e82ca06f-76fb-4267-b87f-e64fb51ab52d"
      },
      "source": [
        "list_0[-1]"
      ],
      "execution_count": 23,
      "outputs": [
        {
          "output_type": "execute_result",
          "data": {
            "application/vnd.google.colaboratory.intrinsic+json": {
              "type": "string"
            },
            "text/plain": [
              "'anand'"
            ]
          },
          "metadata": {
            "tags": []
          },
          "execution_count": 23
        }
      ]
    },
    {
      "cell_type": "code",
      "metadata": {
        "colab": {
          "base_uri": "https://localhost:8080/"
        },
        "id": "4LFSCg9-6v90",
        "outputId": "1c2fcf85-3c31-4ae4-a661-f4696fa6f9c9"
      },
      "source": [
        "list_0[:3]"
      ],
      "execution_count": 25,
      "outputs": [
        {
          "output_type": "execute_result",
          "data": {
            "text/plain": [
              "['chaitu', 'prasanth', 'shanmukh']"
            ]
          },
          "metadata": {
            "tags": []
          },
          "execution_count": 25
        }
      ]
    },
    {
      "cell_type": "code",
      "metadata": {
        "colab": {
          "base_uri": "https://localhost:8080/"
        },
        "id": "lrKNUtlC8DyE",
        "outputId": "62b318c5-bdee-4c60-9466-69e483cf331d"
      },
      "source": [
        "list_0 + [\"yaswanth\",\"bhargavi\"]"
      ],
      "execution_count": 26,
      "outputs": [
        {
          "output_type": "execute_result",
          "data": {
            "text/plain": [
              "['chaitu', 'prasanth', 'shanmukh', 'anand', 'yaswanth', 'bhargavi']"
            ]
          },
          "metadata": {
            "tags": []
          },
          "execution_count": 26
        }
      ]
    },
    {
      "cell_type": "code",
      "metadata": {
        "colab": {
          "base_uri": "https://localhost:8080/"
        },
        "id": "b-uDNKCN88mS",
        "outputId": "87490a7f-142d-4a1b-db83-c926106ac1c8"
      },
      "source": [
        "len(list_0)"
      ],
      "execution_count": 27,
      "outputs": [
        {
          "output_type": "execute_result",
          "data": {
            "text/plain": [
              "4"
            ]
          },
          "metadata": {
            "tags": []
          },
          "execution_count": 27
        }
      ]
    },
    {
      "cell_type": "code",
      "metadata": {
        "colab": {
          "base_uri": "https://localhost:8080/"
        },
        "id": "jRnbcSgU90Ol",
        "outputId": "9f0d2dff-074b-4ac1-ea1a-96f944cd6de7"
      },
      "source": [
        "list_0 = list_0 + [\"prasanth\",\"bhargavi\"]\n",
        "len(list_0)"
      ],
      "execution_count": 28,
      "outputs": [
        {
          "output_type": "execute_result",
          "data": {
            "text/plain": [
              "6"
            ]
          },
          "metadata": {
            "tags": []
          },
          "execution_count": 28
        }
      ]
    },
    {
      "cell_type": "code",
      "metadata": {
        "colab": {
          "base_uri": "https://localhost:8080/"
        },
        "id": "jCIJYegc90RM",
        "outputId": "4a41e049-edc1-4413-de88-896474b59cb8"
      },
      "source": [
        "\"chaitu\" in list_0"
      ],
      "execution_count": 29,
      "outputs": [
        {
          "output_type": "execute_result",
          "data": {
            "text/plain": [
              "True"
            ]
          },
          "metadata": {
            "tags": []
          },
          "execution_count": 29
        }
      ]
    },
    {
      "cell_type": "code",
      "metadata": {
        "colab": {
          "base_uri": "https://localhost:8080/"
        },
        "id": "EtdhuIFD90V4",
        "outputId": "548bfb92-864d-43a9-9651-45f507b1a584"
      },
      "source": [
        "list_0[1:6]"
      ],
      "execution_count": 35,
      "outputs": [
        {
          "output_type": "execute_result",
          "data": {
            "text/plain": [
              "['prasanth', 'shanmukh', 'anand', 'prasanth', 'bhargavi']"
            ]
          },
          "metadata": {
            "tags": []
          },
          "execution_count": 35
        }
      ]
    },
    {
      "cell_type": "code",
      "metadata": {
        "colab": {
          "base_uri": "https://localhost:8080/"
        },
        "id": "OMvI4T-y_XS-",
        "outputId": "12af04c9-c098-49f9-8cfb-11f6fa7db91f"
      },
      "source": [
        "sorted(list_0)"
      ],
      "execution_count": 36,
      "outputs": [
        {
          "output_type": "execute_result",
          "data": {
            "text/plain": [
              "['anand', 'bhargavi', 'chaitu', 'prasanth', 'prasanth', 'shanmukh']"
            ]
          },
          "metadata": {
            "tags": []
          },
          "execution_count": 36
        }
      ]
    },
    {
      "cell_type": "code",
      "metadata": {
        "id": "5u_BeLo4_XVm"
      },
      "source": [
        "list_1 = [1,5,8,16,5,12,47,63]\n"
      ],
      "execution_count": 38,
      "outputs": []
    },
    {
      "cell_type": "code",
      "metadata": {
        "colab": {
          "base_uri": "https://localhost:8080/"
        },
        "id": "w8XQHQzN_XZW",
        "outputId": "5eb72e76-4be2-46a0-9630-68b3a779452b"
      },
      "source": [
        "minimum = min(list_1)\n",
        "minimum"
      ],
      "execution_count": 40,
      "outputs": [
        {
          "output_type": "execute_result",
          "data": {
            "text/plain": [
              "1"
            ]
          },
          "metadata": {
            "tags": []
          },
          "execution_count": 40
        }
      ]
    },
    {
      "cell_type": "code",
      "metadata": {
        "colab": {
          "base_uri": "https://localhost:8080/"
        },
        "id": "9nXTRifRBS_8",
        "outputId": "05c32232-7c50-46a0-dd67-b5d4ed5afa9c"
      },
      "source": [
        "sum(list_1)"
      ],
      "execution_count": 41,
      "outputs": [
        {
          "output_type": "execute_result",
          "data": {
            "text/plain": [
              "157"
            ]
          },
          "metadata": {
            "tags": []
          },
          "execution_count": 41
        }
      ]
    },
    {
      "cell_type": "code",
      "metadata": {
        "colab": {
          "base_uri": "https://localhost:8080/"
        },
        "id": "T5_y_b0uBTCU",
        "outputId": "f8b429a0-fbbf-4027-a78f-99f0ecae51b1"
      },
      "source": [
        "range(0,10)"
      ],
      "execution_count": 43,
      "outputs": [
        {
          "output_type": "execute_result",
          "data": {
            "text/plain": [
              "range(0, 10)"
            ]
          },
          "metadata": {
            "tags": []
          },
          "execution_count": 43
        }
      ]
    },
    {
      "cell_type": "code",
      "metadata": {
        "colab": {
          "base_uri": "https://localhost:8080/"
        },
        "id": "27GktZeyBTHn",
        "outputId": "ab37d8eb-85af-4d14-fdaa-cdb251f234c8"
      },
      "source": [
        "for i in range(0,10):\n",
        "  print(i)"
      ],
      "execution_count": 44,
      "outputs": [
        {
          "output_type": "stream",
          "text": [
            "0\n",
            "1\n",
            "2\n",
            "3\n",
            "4\n",
            "5\n",
            "6\n",
            "7\n",
            "8\n",
            "9\n"
          ],
          "name": "stdout"
        }
      ]
    },
    {
      "cell_type": "code",
      "metadata": {
        "colab": {
          "base_uri": "https://localhost:8080/"
        },
        "id": "65gilLW-E67A",
        "outputId": "33613172-b800-4620-dc31-8f227643af26"
      },
      "source": [
        "for i in range(10,5,-1):\n",
        "  print(i, end = '-')"
      ],
      "execution_count": 47,
      "outputs": [
        {
          "output_type": "stream",
          "text": [
            "10-9-8-7-6-"
          ],
          "name": "stdout"
        }
      ]
    },
    {
      "cell_type": "code",
      "metadata": {
        "id": "xNx7ZeQ7FEqS"
      },
      "source": [
        ""
      ],
      "execution_count": null,
      "outputs": []
    },
    {
      "cell_type": "code",
      "metadata": {
        "id": "ostOURDBFEv0"
      },
      "source": [
        ""
      ],
      "execution_count": null,
      "outputs": []
    },
    {
      "cell_type": "code",
      "metadata": {
        "id": "1_0qp0QcFE0Y"
      },
      "source": [
        ""
      ],
      "execution_count": null,
      "outputs": []
    }
  ]
}