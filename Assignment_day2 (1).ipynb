{
 "cells": [
  {
   "cell_type": "markdown",
   "metadata": {},
   "source": [
    "# Day2 assignment"
   ]
  },
  {
   "cell_type": "markdown",
   "metadata": {},
   "source": [
    "# Name = kusumanchi chaitanya"
   ]
  },
  {
   "cell_type": "markdown",
   "metadata": {
    "id": "ABrVgzuQHIP9"
   },
   "source": [
    "# Creating a list"
   ]
  },
  {
   "cell_type": "code",
   "execution_count": 1,
   "metadata": {
    "colab": {
     "base_uri": "https://localhost:8080/"
    },
    "id": "zFtH0blMGqaZ",
    "outputId": "4c92ba6e-55c1-484b-ca6a-f30fe335acd0"
   },
   "outputs": [
    {
     "name": "stdout",
     "output_type": "stream",
     "text": [
      "['Amazon', 'Google', 'Apple', 'Microsoft', 'Samsung', 'Facebook', 'Walmart', 'Ping An', 'Huawei']\n"
     ]
    }
   ],
   "source": [
    "mylist_a = [\"Amazon\",\"Google\",\"Apple\",\"Microsoft\",\"Samsung\",\"Facebook\",\"Walmart\",\"Ping An\",\"Huawei\"]\n",
    "print(mylist_a)"
   ]
  },
  {
   "cell_type": "markdown",
   "metadata": {
    "id": "mZAhzbX_H--R"
   },
   "source": [
    "# Creating my second list\n"
   ]
  },
  {
   "cell_type": "code",
   "execution_count": 2,
   "metadata": {
    "colab": {
     "base_uri": "https://localhost:8080/"
    },
    "id": "y_a4bjJ7I880",
    "outputId": "98530fbe-39b0-4b5e-f136-5a38c83c8c70"
   },
   "outputs": [
    {
     "name": "stdout",
     "output_type": "stream",
     "text": [
      "['Google', 'Apple', 'Microsoft', 'Huawei', 'ICBC']\n"
     ]
    }
   ],
   "source": [
    "mylist_b = [\"Google\",\"Apple\",\"Microsoft\",\"Huawei\",\"ICBC\"]\n",
    "print(mylist_b)"
   ]
  },
  {
   "cell_type": "markdown",
   "metadata": {},
   "source": [
    "# Arranging my list in order"
   ]
  },
  {
   "cell_type": "code",
   "execution_count": 3,
   "metadata": {
    "colab": {
     "base_uri": "https://localhost:8080/"
    },
    "id": "RRa_L238I-wn",
    "outputId": "c982121a-2d2e-42de-e5ae-f7fecaf9e507"
   },
   "outputs": [
    {
     "data": {
      "text/plain": [
       "['Apple', 'Google', 'Huawei', 'ICBC', 'Microsoft']"
      ]
     },
     "execution_count": 3,
     "metadata": {},
     "output_type": "execute_result"
    }
   ],
   "source": [
    "sorted(mylist_b)"
   ]
  },
  {
   "cell_type": "markdown",
   "metadata": {
    "id": "0gQsfCVlJyiZ"
   },
   "source": [
    "#  Finding overlaping elements in both lists\n"
   ]
  },
  {
   "cell_type": "code",
   "execution_count": 4,
   "metadata": {
    "colab": {
     "base_uri": "https://localhost:8080/"
    },
    "id": "V0PM2yFyJ3re",
    "outputId": "9f5fe47c-037f-4065-8d49-6fba690605a4"
   },
   "outputs": [
    {
     "name": "stdout",
     "output_type": "stream",
     "text": [
      "{'Microsoft', 'Huawei', 'Google', 'Apple'}\n"
     ]
    }
   ],
   "source": [
    "listy = set(mylist_a)\n",
    "\n",
    "\n",
    "\n",
    "common_elements = listy.intersection(mylist_b)\n",
    "print(common_elements)"
   ]
  },
  {
   "cell_type": "markdown",
   "metadata": {},
   "source": [
    "# Only even numbers from 20 to 40"
   ]
  },
  {
   "cell_type": "code",
   "execution_count": 5,
   "metadata": {
    "colab": {
     "base_uri": "https://localhost:8080/",
     "height": 178
    },
    "id": "MlgxGhEQMmYg",
    "outputId": "e98b394b-e940-4272-b7e7-1c5f94b1c71f"
   },
   "outputs": [
    {
     "name": "stdout",
     "output_type": "stream",
     "text": [
      "20 22 24 26 28 30 32 34 36 38 "
     ]
    }
   ],
   "source": [
    "for i in range(20, 40,2):\n",
    "    print(i, end =\" \")"
   ]
  }
 ],
 "metadata": {
  "colab": {
   "name": "Assignment day2.ipynb",
   "provenance": []
  },
  "kernelspec": {
   "display_name": "Python 3",
   "language": "python",
   "name": "python3"
  },
  "language_info": {
   "codemirror_mode": {
    "name": "ipython",
    "version": 3
   },
   "file_extension": ".py",
   "mimetype": "text/x-python",
   "name": "python",
   "nbconvert_exporter": "python",
   "pygments_lexer": "ipython3",
   "version": "3.8.5"
  }
 },
 "nbformat": 4,
 "nbformat_minor": 1
}
